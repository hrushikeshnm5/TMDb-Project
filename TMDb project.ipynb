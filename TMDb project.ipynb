{
 "cells": [
  {
   "cell_type": "markdown",
   "id": "b832af05",
   "metadata": {},
   "source": [
    "# 1) Find the 'id' of the movie \"Andhadhun\" using TMDb API."
   ]
  },
  {
   "cell_type": "code",
   "execution_count": 2,
   "id": "210c60f5",
   "metadata": {},
   "outputs": [
    {
     "name": "stdout",
     "output_type": "stream",
     "text": [
      "534780\n"
     ]
    }
   ],
   "source": [
    "import requests\n",
    "api_key = \"e226f4a5f5bace766952aa0d17182959\"\n",
    "api_link = \"https://api.themoviedb.org/3\"\n",
    "params = {'query':\"Andhadhun\", 'api_key':api_key}\n",
    "header = {'Accept': 'application/json'}\n",
    "response = requests.get(api_link + \"/search/movie\", headers =\n",
    "header, params=params)\n",
    "data = response.json()\n",
    "results = data.get('results')\n",
    "for result in results:\n",
    " if result.get('title') == 'Andhadhun':\n",
    "  print(result.get('id'))"
   ]
  },
  {
   "cell_type": "markdown",
   "id": "f903fb53",
   "metadata": {},
   "source": [
    "# 2) Fetch the company id company 'Marvel Studios' using TMDb. Print the id."
   ]
  },
  {
   "cell_type": "code",
   "execution_count": 3,
   "id": "a5cfc688",
   "metadata": {},
   "outputs": [
    {
     "name": "stdout",
     "output_type": "stream",
     "text": [
      "420\n"
     ]
    }
   ],
   "source": [
    "import requests\n",
    "data={\"api_key\":\"56fc1a5856e1072c3ea4d7f4bbf7857b\",\"query\":\"Marvel Studios\"}\n",
    "res=requests.get(\"https://api.themoviedb.org/3/search/company\",params=data)\n",
    "a=res.json()\n",
    "print(a['results'][0]['id'])"
   ]
  },
  {
   "cell_type": "markdown",
   "id": "af12d6e4",
   "metadata": {},
   "source": [
    "# 3) Find the vote count and vote average of the movie \"3 Idiots\" using the TMDb API"
   ]
  },
  {
   "cell_type": "code",
   "execution_count": 4,
   "id": "7889f407",
   "metadata": {},
   "outputs": [
    {
     "name": "stdout",
     "output_type": "stream",
     "text": [
      "2161 7.988\n"
     ]
    }
   ],
   "source": [
    "import requests\n",
    "\n",
    "data={'api_key':'56fc1a5856e1072c3ea4d7f4bbf7857b','query':'3 Idiots'}\n",
    "res=requests.get(\"https://api.themoviedb.org/3/search/movie\",params=data)\n",
    "a=res.json()\n",
    "print(a['results'][0]['vote_count'],a['results'][0]['vote_average'])"
   ]
  },
  {
   "cell_type": "markdown",
   "id": "f04ff776",
   "metadata": {},
   "source": [
    "# 4) Fetch the names of top 5 similar movies to 'Inception' from the TMDb API."
   ]
  },
  {
   "cell_type": "code",
   "execution_count": 1,
   "id": "055a4308",
   "metadata": {},
   "outputs": [
    {
     "name": "stdout",
     "output_type": "stream",
     "text": [
      "Asambhav\n",
      "Hook\n",
      "Cars\n",
      "Lethal Weapon\n",
      "Lethal Weapon 3\n"
     ]
    }
   ],
   "source": [
    "import requests\n",
    "api_key = \"e226f4a5f5bace766952aa0d17182959\"\n",
    "api_link = \"https://api.themoviedb.org/3\"\n",
    "params = {'query':\"Inception\", 'api_key':api_key}\n",
    "header = {'Accept': 'application/json'}\n",
    "response = requests.get(api_link + \"/search/movie\", headers = header, params=params)\n",
    "data = response.json()\n",
    "results = data.get('results')\n",
    "for result in results:\n",
    " if result.get('original_title') == 'Inception':\n",
    "  id = result.get('id')\n",
    "params2 = {'api_key':api_key}\n",
    "response2 = requests.get(api_link + \"/movie/\" + str(id) + \"/similar\", headers=header, params=params)\n",
    "data2 = response2.json()\n",
    "results2 = data2.get('results')\n",
    "for result in results2[:5]:\n",
    " print(result.get(\"title\"))"
   ]
  },
  {
   "cell_type": "markdown",
   "id": "0cf8b3c1",
   "metadata": {},
   "source": [
    "# 5) Fetch the top rated english movies in the US region using the TMDb API. From the result, print the first 10 movies which have original language as english. Also print their genres."
   ]
  },
  {
   "cell_type": "code",
   "execution_count": 7,
   "id": "e1a1e211",
   "metadata": {},
   "outputs": [
    {
     "name": "stdout",
     "output_type": "stream",
     "text": [
      "The Godfather - Drama, Crime, \n",
      "The Shawshank Redemption - Drama, Crime, \n",
      "The Godfather Part II - Drama, Crime, \n",
      "Schindler's List - Drama, History, War, \n",
      "12 Angry Men - Drama, \n",
      "The Dark Knight - Drama, Action, Crime, Thriller, \n",
      "The Green Mile - Fantasy, Drama, Crime, \n",
      "Pulp Fiction - Thriller, Crime, \n",
      "Forrest Gump - Comedy, Drama, Romance, \n",
      "The Lord of the Rings: The Return of the King - Adventure, Fantasy, Action, \n"
     ]
    }
   ],
   "source": [
    "import requests\n",
    "api_key = \"e226f4a5f5bace766952aa0d17182959\"\n",
    "api_link = \"https://api.themoviedb.org/3\"\n",
    "header = {'Accept': 'application/json'}\n",
    "params = {'api_key':api_key, 'region':'US'}\n",
    "response = requests.get(api_link + \"/movie/top_rated\", headers = header,params=params)\n",
    "data = response.json()\n",
    "results = data.get('results')\n",
    "title_array = []\n",
    "genre_id_array = []\n",
    "for result in results:\n",
    " if result.get('original_language') == 'en':\n",
    "  title_array.append(result.get('title'))\n",
    "  genre_id_array.append(result.get('genre_ids'))\n",
    "# To get the genre name corresponding to genre_id\n",
    "response2 = requests.get(api_link + \"/genre/movie/list\", headers = header,params=params)\n",
    "data2 = response2.json()\n",
    "genres = data2.get('genres')\n",
    "mapping = {}\n",
    "for genre in genres:\n",
    " mapping[genre.get('id')] = genre.get('name')\n",
    "for i in range(10):\n",
    " print(title_array[i], \"-\", end=\" \")\n",
    " for id in genre_id_array[i]:\n",
    "  print(mapping.get(id), end = \", \")\n",
    " print()\n",
    "\n",
    "\n"
   ]
  },
  {
   "cell_type": "markdown",
   "id": "c6fb0010",
   "metadata": {},
   "source": [
    "# 6) Find the name and birthplace of the present most popular person according to TMDb API."
   ]
  },
  {
   "cell_type": "code",
   "execution_count": 8,
   "id": "3160dd14",
   "metadata": {},
   "outputs": [
    {
     "name": "stdout",
     "output_type": "stream",
     "text": [
      "64\n",
      "Gary Oldman - New Orleans, Louisiana, USA\n"
     ]
    }
   ],
   "source": [
    "data={'api_key':'56fc1a5856e1072c3ea4d7f4bbf7857b'}\n",
    "res=requests.get('https://api.themoviedb.org/3/person/popular',params=data)\n",
    "a=res.json()\n",
    "print(a['results'][0]['id'])\n",
    "print(a['results'][0]['name'],end=\" \")\n",
    "print('-',end=' ')\n",
    "res2=requests.get(\"https://api.themoviedb.org/3/person/\"+\"169337\",params=data)\n",
    "b=res2.json()\n",
    "#print(res2.url)\n",
    "print(b['place_of_birth'])"
   ]
  },
  {
   "cell_type": "markdown",
   "id": "834de417",
   "metadata": {},
   "source": [
    "# 7) Fetch the Instagram and Twitter handle of Indian Actress \"Alia Bhatt\" from the TMDb API."
   ]
  },
  {
   "cell_type": "code",
   "execution_count": 9,
   "id": "ebc0db13",
   "metadata": {},
   "outputs": [
    {
     "name": "stdout",
     "output_type": "stream",
     "text": [
      "aliaabhatt   Aliaa08\n"
     ]
    }
   ],
   "source": [
    "import requests\n",
    "data={'api_key':'56fc1a5856e1072c3ea4d7f4bbf7857b','query':'Alia Bhatt'}\n",
    "res=requests.get('https://api.themoviedb.org/3/search/person',params=data)\n",
    "a=res.json()\n",
    "data2={'api_key':'56fc1a5856e1072c3ea4d7f4bbf7857b'}\n",
    "res2=requests.get('https://api.themoviedb.org/3/person/'+'1108120/external_ids',params=data2)\n",
    "b=res2.json()\n",
    "print(b[\"instagram_id\"],\" \", b[\"twitter_id\"])"
   ]
  },
  {
   "cell_type": "markdown",
   "id": "14a6bc62",
   "metadata": {},
   "source": [
    "# 8) Fetch the names of the character played by Tom Cruise in the movies:\n",
    "Top Gun\n",
    "Mission: Impossible - Fallout\n",
    "Minority Report\n",
    "Edge of Tomorrow"
   ]
  },
  {
   "cell_type": "code",
   "execution_count": 10,
   "id": "c2234af9",
   "metadata": {},
   "outputs": [
    {
     "name": "stdout",
     "output_type": "stream",
     "text": [
      "Lt. Pete 'Maverick' Mitchell\n",
      "Ethan Hunt\n",
      "Chief John Anderton\n",
      "Maj. William 'Bill' Cage\n"
     ]
    }
   ],
   "source": [
    "import requests\n",
    "api_key = \"b0a53d521764ab3bc5732e74a5cc06c9\"\n",
    "api_link = \"https://api.themoviedb.org/3\"\n",
    "params = {'api_key':api_key,'query':'Tom Cruise'}\n",
    "header = {'Accept': 'application/json'}\n",
    "response2=requests.get(api_link + \"/person/\"+str(500)+\"/movie_credits\", headers = header, params=params)\n",
    "#print(response2.url)\n",
    "data=response2.json()\n",
    "for result in data['cast']:\n",
    "    if result['title']=='Top Gun':\n",
    "        print(result['character'],)\n",
    "for result in data['cast']:\n",
    "    if result['title']=='Mission: Impossible - Fallout':\n",
    "        print(result['character'])\n",
    "for result in data['cast']:\n",
    "    if result['title']=='Minority Report':\n",
    "        print(result['character'])\n",
    "for result in data['cast']:\n",
    "    if result['title']=='Edge of Tomorrow':\n",
    "        print(result['character'])"
   ]
  },
  {
   "cell_type": "markdown",
   "id": "2f3b6024",
   "metadata": {},
   "source": [
    "# 9) Did James McAvoy play a role in the movie Deadpool 2. Print Yes or No."
   ]
  },
  {
   "cell_type": "code",
   "execution_count": 11,
   "id": "10dfc038",
   "metadata": {},
   "outputs": [
    {
     "name": "stdout",
     "output_type": "stream",
     "text": [
      "Yes\n"
     ]
    }
   ],
   "source": [
    "import requests\n",
    "data={'api_key':'56fc1a5856e1072c3ea4d7f4bbf7857b','query':'Deadpool 2'}\n",
    "res=requests.get('https://api.themoviedb.org/3/search/movie',params=data)\n",
    "res2=requests.get('https://api.themoviedb.org/3/movie/'+'383498'+'/credits',params=data)\n",
    "#print(res2.url)\n",
    "a=res2.json()\n",
    "b=0\n",
    "for data in a['cast']:\n",
    "    if data['name']=='James McAvoy':\n",
    "        print('Yes')\n",
    "        b=1\n",
    "if b==0:\n",
    "    print('No')"
   ]
  },
  {
   "cell_type": "markdown",
   "id": "97486a7e",
   "metadata": {},
   "source": [
    "# 10) Using the result obtained in previous question, find out if James McAvoy was credited for his role in movie Deadpool 2. Print Yes or No."
   ]
  },
  {
   "cell_type": "code",
   "execution_count": 12,
   "id": "5a9e3a5b",
   "metadata": {},
   "outputs": [
    {
     "name": "stdout",
     "output_type": "stream",
     "text": [
      "No\n"
     ]
    }
   ],
   "source": [
    "import requests\n",
    "data={'api_key':'56fc1a5856e1072c3ea4d7f4bbf7857b','query':'Deadpool 2'}\n",
    "res=requests.get('https://api.themoviedb.org/3/search/movie',params=data)\n",
    "res2=requests.get('https://api.themoviedb.org/3/movie/'+'383498'+'/credits',params=data)\n",
    "#print(res2.url)\n",
    "a=res2.json()\n",
    "b=0\n",
    "for data in a['cast']:\n",
    "    if data['name']=='James McAvoy' and '(uncredited)' in data['character']:\n",
    "        print('No')\n",
    "        b=1\n",
    "if b==0:\n",
    "    print('Yes')"
   ]
  },
  {
   "cell_type": "markdown",
   "id": "6dd30fbc",
   "metadata": {},
   "source": [
    "# 11) Fetch the overview of the TV Show \"FRIENDS\" using TMDb API."
   ]
  },
  {
   "cell_type": "code",
   "execution_count": 15,
   "id": "38797611",
   "metadata": {},
   "outputs": [
    {
     "name": "stdout",
     "output_type": "stream",
     "text": [
      "Six young people from New York City, on their own and struggling to survive in the real world, find the companionship, comfort and support they get from each other to be the perfect antidote to the pressures of life.\n",
      "Friends is a short-lived kids-oriented drama that aired in the spring of 1979. The series, which was produced by Aaron Spelling and aired on ABC, starred Charlie Aiken, Jill Whelan, and Jarrod Johnson as three Southern Californian 11-year-olds. Karen Morrow also appeared. Only five one-hour episodes were produced before the series was cancelled.\n",
      "\n"
     ]
    }
   ],
   "source": [
    "import requests\n",
    "api_key = \"e226f4a5f5bace766952aa0d17182959\"\n",
    "api_link = \"https://api.themoviedb.org/3\"\n",
    "params = {'query':\"Friends\" , 'api_key':api_key}\n",
    "header = {'Accept': 'application/json'}\n",
    "response = requests.get(api_link + \"/search/tv\", headers = header, params=params)\n",
    "data = response.json()\n",
    "results = data.get('results')\n",
    "for result in results:\n",
    " if result.get('name') == 'Friends':\n",
    "  print(result.get('overview'))"
   ]
  },
  {
   "cell_type": "markdown",
   "id": "69ddd722",
   "metadata": {},
   "source": [
    "# 12) Fetch the name and air date of S06E05 of the TV Show 'The Big Bang Theory' from TMDb API."
   ]
  },
  {
   "cell_type": "code",
   "execution_count": 16,
   "id": "ac42dc80",
   "metadata": {},
   "outputs": [
    {
     "name": "stdout",
     "output_type": "stream",
     "text": [
      "The Holographic Excitation  -  2012-10-25\n"
     ]
    }
   ],
   "source": [
    "import requests\n",
    "\n",
    "data={'api_key':'56fc1a5856e1072c3ea4d7f4bbf7857b','query':'The Big Bang Theory'}\n",
    "res=requests.get('https://api.themoviedb.org/3/search/tv',params=data)\n",
    "#print(res.url)\n",
    "data2={'api_key':'56fc1a5856e1072c3ea4d7f4bbf7857b'}\n",
    "res2=requests.get('https://api.themoviedb.org/3/tv/'+'1418/'+'season/6/episode/5',params=data2)\n",
    "a=res2.json()\n",
    "print(a['name'],\" - \",a['air_date'])"
   ]
  },
  {
   "cell_type": "markdown",
   "id": "458167e2",
   "metadata": {},
   "source": [
    "# 13) Fetch the trending TV Shows for the week from the TMDb API and print the taglines of the top 5 shows. If there is no tagline, print 'Empty' instead"
   ]
  },
  {
   "cell_type": "code",
   "execution_count": 17,
   "id": "3c32a35c",
   "metadata": {},
   "outputs": [
    {
     "name": "stdout",
     "output_type": "stream",
     "text": [
      "Loki's time has come.\n",
      "Empty\n",
      "Empty\n",
      "Empty\n",
      "Warrior. Outcast. Rebel. Jedi.\n"
     ]
    }
   ],
   "source": [
    "import requests \n",
    "api_key = \"e226f4a5f5bace766952aa0d17182959\" \n",
    "api_link = \"https://api.themoviedb.org/3\" \n",
    "params = {'api_key':api_key} \n",
    "header = {'Accept': 'application/json'} \n",
    "response = requests.get(api_link + \"/trending/tv/week\", headers = header, params = params) \n",
    "data = response.json() \n",
    "results = data.get(\"results\") \n",
    "ids=[] \n",
    "for result in results[:5]: \n",
    "    ids.append(result.get(\"id\")) \n",
    "    \n",
    "for id in ids: \n",
    "    response2 = requests.get(api_link + \"/tv/\" + str(id) , headers = header, params = params) \n",
    "    data2 = response2.json() \n",
    "    if (data2.get(\"tagline\")) != \"\": \n",
    "        print(data2.get(\"tagline\")) \n",
    "    else: print('Empty')"
   ]
  },
  {
   "cell_type": "markdown",
   "id": "447a1d88",
   "metadata": {},
   "source": [
    "# 14) Print the names of all the TV shows to be aired today whose original language is english."
   ]
  },
  {
   "cell_type": "code",
   "execution_count": 22,
   "id": "052a68b7",
   "metadata": {},
   "outputs": [
    {
     "name": "stdout",
     "output_type": "stream",
     "text": [
      "Big Brother\n",
      "The Walking Dead: Daryl Dixon\n",
      "Rick and Morty\n",
      "Billions\n",
      "Heartland\n",
      "Last Week Tonight with John Oliver\n",
      "When Calls the Heart\n",
      "The Block\n",
      "Big Brother\n",
      "The Wonderful World of Disney\n",
      "Got Talent Argentina\n",
      "Sunday with Laura Kuenssberg\n",
      "Pantheon\n",
      "The Real Housewives of New York City\n",
      "Billy the Kid\n",
      "Love Is Blind\n",
      "Antiques Roadshow\n",
      "SkyMed\n",
      "Boiling Point\n",
      "90 Day Fiancé: Pillow Talk\n",
      "90 Day Fiancé\n",
      "Ice Road Rescue\n",
      "The Newsreader\n",
      "The Circus\n",
      "Dramatic Self-Help Strategy\n",
      "The Great Canadian Baking Show\n",
      "Outrageous Pumpkins\n",
      "Halloween Wars\n",
      "Relative Race\n",
      "The Toys That Built America\n",
      "Builder Brothers' Dream Factory\n",
      "The Women's Football Show\n",
      "The Big Sex Scam\n",
      "Wild Hokkaido!\n",
      "Evil Lives Here: The Killer Speaks\n",
      "Jack Osbourne's Night of Terror\n",
      "Celebrity SAS: Who Dares Wins\n",
      "Sweet Little Monsters\n",
      "This Week with Now United\n",
      "Big Brother: Late and Live\n",
      "Baddies East\n",
      "Final Moments\n",
      "Handmade: Britain's Best Woodworker\n",
      "The Firm\n",
      "Ozu\n",
      "Big Little Journeys\n",
      "Ice Airport Alaska\n",
      "House of Kardashian\n",
      "Big Brother: Live Stream\n"
     ]
    }
   ],
   "source": [
    "import requests\n",
    "api_key = \"e226f4a5f5bace766952aa0d17182959\"\n",
    "api_link = \"https://api.themoviedb.org/3\"\n",
    "params = {'language':\"en\" , 'api_key':api_key}\n",
    "header = {'Accept': 'application/json'}\n",
    "response = requests.get(api_link + \"/tv/airing_today/\", headers = header,params=params)\n",
    "data= response.json()\n",
    "page_number = data.get('total_pages')\n",
    "for i in range(1, page_number + 1):\n",
    " params = {'language':\"en\" , 'api_key':api_key, 'page':i}\n",
    " response = requests.get(api_link + \"/tv/airing_today/\", headers = header,params=params)\n",
    " data= response.json()\n",
    " results = data.get('results')\n",
    " for result in results:\n",
    "  if result.get('original_language') == 'en':\n",
    "   print(result.get('name'))\n",
    "  "
   ]
  },
  {
   "cell_type": "markdown",
   "id": "0045631d",
   "metadata": {},
   "source": [
    "# 15) Count the number of males and females in the cast of \"Money Heist\" using the TMDb API."
   ]
  },
  {
   "cell_type": "code",
   "execution_count": 23,
   "id": "c716c0a0",
   "metadata": {},
   "outputs": [
    {
     "name": "stdout",
     "output_type": "stream",
     "text": [
      "10 5\n"
     ]
    }
   ],
   "source": [
    "import requests\n",
    "import json\n",
    "\n",
    "# Define your API key for The Movie Database (TMDb)\n",
    "apiKey = '56fc1a5856e1072c3ea4d7f4bbf7857b'\n",
    "\n",
    "# Send an HTTP GET request to search for TV shows with the query 'Money Heist'\n",
    "res = requests.get('https://api.themoviedb.org/3/search/tv', params={'api_key': apiKey, 'query': 'Money Heist'})\n",
    "\n",
    "# Parse the JSON response from the request\n",
    "data = res.json()\n",
    "\n",
    "# Iterate through the results to find the TV show with the name 'Money Heist'\n",
    "for i in data['results']:\n",
    "    if i['name'] == 'Money Heist':\n",
    "        ID = i['id']\n",
    "\n",
    "# Send another HTTP GET request to fetch the credits for the 'Money Heist' TV show\n",
    "res = requests.get(F'https://api.themoviedb.org/3/tv/{ID}/credits', params={'api_key': apiKey})\n",
    "\n",
    "# Parse the JSON response from the request\n",
    "data = res.json()\n",
    "\n",
    "# Initialize counters for counting male and female cast members\n",
    "Female = 0\n",
    "Male = 0\n",
    "\n",
    "# Iterate through the cast list and count the male and female cast members\n",
    "for i in data['cast']:\n",
    "    if i['gender'] == 2:\n",
    "        Male += 1  # Male gender code is 2\n",
    "    elif i['gender'] == 1:\n",
    "        Female += 1  # Female gender code is 1\n",
    "\n",
    "# Print the counts of male and female cast members\n",
    "print(Male, Female)"
   ]
  },
  {
   "cell_type": "code",
   "execution_count": null,
   "id": "d047a893",
   "metadata": {},
   "outputs": [],
   "source": []
  }
 ],
 "metadata": {
  "kernelspec": {
   "display_name": "Python 3 (ipykernel)",
   "language": "python",
   "name": "python3"
  },
  "language_info": {
   "codemirror_mode": {
    "name": "ipython",
    "version": 3
   },
   "file_extension": ".py",
   "mimetype": "text/x-python",
   "name": "python",
   "nbconvert_exporter": "python",
   "pygments_lexer": "ipython3",
   "version": "3.11.4"
  }
 },
 "nbformat": 4,
 "nbformat_minor": 5
}
